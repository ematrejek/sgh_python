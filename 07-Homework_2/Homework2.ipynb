{
 "cells": [
  {
   "cell_type": "markdown",
   "metadata": {},
   "source": [
    "# Hacking Incident\n",
    "\n",
    "We're being hacked! We need your help to get a message to the main server.\n",
    "\n",
    "We need you to accomplish 3 tasks:\n",
    "\n",
    "1. Create a Caeser cipher encryption function.\n",
    "2. Create another function that decrypts a Caeser cipher message.\n",
    "\n",
    "We've set up a framework for you to follow here in this notebook. Feel free to use it, or create your own base functions."
   ]
  },
  {
   "cell_type": "markdown",
   "metadata": {},
   "source": [
    "## Encryption Function\n",
    "\n",
    "This function should take in two parameters, the plain text message and the shift number for the Caeser cipher.\n",
    "\n",
    "To create the cipher you will need to create a list of the alphabet. You can either write out the alphabet manually, or use the [string library](https://docs.python.org/3/library/string.html?highlight=string#module-string) to get all the lowercase alphabet. You will first need to run *import string* , and then call the attribute. For example:\n",
    "\n",
    "    import string\n",
    "    alphabet = string.ascii_lowercase\n",
    "    print(alphabet)\n",
    "    print(list(alphabet))\n",
    "    \n",
    "An empty function with some comments is here below for you to fill out:"
   ]
  },
  {
   "cell_type": "markdown",
   "metadata": {},
   "source": [
    "Github link: https://github.com/ematrejek/sgh_python/blob/main/07-Homework_2/Homework2.ipynb"
   ]
  },
  {
   "cell_type": "code",
   "execution_count": 1,
   "metadata": {
    "collapsed": true
   },
   "outputs": [],
   "source": [
    "import string\n",
    "def encrypt(text,shift):\n",
    "\n",
    "    alphabet = list(string.ascii_lowercase)\n",
    "    \n",
    "    # Create a shifted version of this alphabet with the shift value.\n",
    "    shifted_alphabet = []\n",
    "\n",
    "    if shift > 26:\n",
    "        multiplier = shift // 26\n",
    "        shift = shift - multiplier*26\n",
    "\n",
    "    length = len(alphabet)\n",
    "\n",
    "    for i in range(length):\n",
    "        shifted_index = i + shift\n",
    "        if shifted_index >= length:\n",
    "            new_index = shifted_index - (length)\n",
    "        else:\n",
    "            new_index = shifted_index\n",
    "        shifted_alphabet.append(alphabet[new_index])\n",
    "    \n",
    "    full_alphabet = list(alphabet)\n",
    "    full_alphabet.append(\" \")\n",
    "    \n",
    "    text = text.lower()\n",
    "    text_arr = []\n",
    "\n",
    "    for i in text:\n",
    "        if i in full_alphabet:\n",
    "            text_arr.append(i)\n",
    "    new_message = []\n",
    "    for sign in text_arr:\n",
    "        if sign == ' ':\n",
    "            new_message.append(' ')\n",
    "        else:\n",
    "            index = alphabet.index(sign)\n",
    "            new_message.append(shifted_alphabet[index])\n",
    "    new_message = ''.join(new_message)\n",
    "    print(new_message)\n",
    "    pass "
   ]
  },
  {
   "cell_type": "markdown",
   "metadata": {},
   "source": [
    "** An example input and output: **"
   ]
  },
  {
   "cell_type": "code",
   "execution_count": 2,
   "metadata": {},
   "outputs": [
    {
     "name": "stdout",
     "output_type": "stream",
     "text": [
      "trg guvf zrffntr gb gur znva freire\n"
     ]
    }
   ],
   "source": [
    "encrypt('Get this message to the main server',13)"
   ]
  },
  {
   "cell_type": "markdown",
   "metadata": {},
   "source": [
    "## Decryption\n",
    "\n",
    "Now create a new function that will \"decrypt\" a shifted message. It should basically do the reverse of the encryption function. The process will be very similar as your previous function, but the alphabets will be switched."
   ]
  },
  {
   "cell_type": "code",
   "execution_count": 3,
   "metadata": {
    "collapsed": true
   },
   "outputs": [],
   "source": [
    "def decrypt(text,shift):\n",
    "   \n",
    "    alphabet = list(string.ascii_lowercase)\n",
    "    \n",
    "    shifted_alphabet = []\n",
    "\n",
    "    if shift > 26:\n",
    "        multiplier = shift // 26\n",
    "        shift = shift - multiplier*26\n",
    "    \n",
    "    length = len(alphabet)\n",
    "\n",
    "    for i in range(length):\n",
    "        shifted_index = i + shift\n",
    "        if shifted_index >= length:\n",
    "            new_index = shifted_index - (length)\n",
    "        else:\n",
    "            new_index = shifted_index\n",
    "        shifted_alphabet.append(alphabet[new_index])\n",
    "    \n",
    "    full_alphabet = list(alphabet)\n",
    "    full_alphabet.append(\" \")\n",
    "    \n",
    "    text = text.lower()\n",
    "    text_arr = []\n",
    "\n",
    "    for i in text:\n",
    "        if i in full_alphabet:\n",
    "            text_arr.append(i)\n",
    "    new_message = []\n",
    "    for sign in text_arr:\n",
    "        if sign == ' ':\n",
    "            new_message.append(' ')\n",
    "        else:\n",
    "            index = shifted_alphabet.index(sign)\n",
    "            new_message.append(alphabet[index])\n",
    "    new_message = ''.join(new_message)\n",
    "    \n",
    "    print(new_message)\n",
    "    pass "
   ]
  },
  {
   "cell_type": "markdown",
   "metadata": {},
   "source": [
    "** Here is an example output: **"
   ]
  },
  {
   "cell_type": "code",
   "execution_count": 4,
   "metadata": {},
   "outputs": [
    {
     "name": "stdout",
     "output_type": "stream",
     "text": [
      "get this message to the main server\n"
     ]
    }
   ],
   "source": [
    "decrypt('trg guvf zrffntr gb gur znva freire',13)"
   ]
  }
 ],
 "metadata": {
  "kernelspec": {
   "display_name": "Python 3",
   "language": "python",
   "name": "python3"
  },
  "language_info": {
   "codemirror_mode": {
    "name": "ipython",
    "version": 3
   },
   "file_extension": ".py",
   "mimetype": "text/x-python",
   "name": "python",
   "nbconvert_exporter": "python",
   "pygments_lexer": "ipython3",
   "version": "3.12.0"
  }
 },
 "nbformat": 4,
 "nbformat_minor": 2
}
