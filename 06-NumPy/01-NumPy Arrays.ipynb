{
 "cells": [
  {
   "cell_type": "markdown",
   "metadata": {},
   "source": [
    "# NumPy \n",
    "\n",
    "NumPy (or Numpy) is a Linear Algebra Library for Python, the reason it is so important for Data Science with Python is that almost all of the libraries in the PyData Ecosystem rely on NumPy as one of their main building blocks.\n",
    "\n",
    "Numpy is also incredibly fast, as it has bindings to C libraries. For more info on why you would want to use Arrays instead of lists, check out this great [StackOverflow post](http://stackoverflow.com/questions/993984/why-numpy-instead-of-python-lists).\n",
    "\n",
    "We will only learn the basics of NumPy, to get started we need to install it!"
   ]
  },
  {
   "cell_type": "markdown",
   "metadata": {},
   "source": [
    "## Installation Instruction"
   ]
  },
  {
   "cell_type": "code",
   "execution_count": null,
   "metadata": {},
   "outputs": [],
   "source": [
    "pip install numpy pandas"
   ]
  },
  {
   "cell_type": "markdown",
   "metadata": {},
   "source": [
    "## Using NumPy\n",
    "\n",
    "Once you've installed NumPy you can import it as a library:"
   ]
  },
  {
   "cell_type": "code",
   "execution_count": 2,
   "metadata": {
    "collapsed": true
   },
   "outputs": [],
   "source": [
    "import numpy as np"
   ]
  },
  {
   "cell_type": "markdown",
   "metadata": {},
   "source": [
    "Numpy has many built-in functions and capabilities. We won't cover them all but instead we will focus on some of the most important aspects of Numpy: vectors,arrays,matrices, and number generation. Let's start by discussing arrays.\n",
    "\n",
    "# Numpy Arrays\n",
    "\n",
    "NumPy arrays are the main way we will use Numpy throughout the course. Numpy arrays essentially come in two flavors: vectors and matrices. Vectors are strictly 1-d arrays and matrices are 2-d (but you should note a matrix can still have only one row or one column).\n",
    "\n",
    "Let's begin our introduction by exploring how to create NumPy arrays.\n",
    "\n",
    "## Creating NumPy Arrays\n",
    "\n",
    "### From a Python List\n",
    "\n",
    "We can create an array by directly converting a list or list of lists:"
   ]
  },
  {
   "cell_type": "code",
   "execution_count": 3,
   "metadata": {},
   "outputs": [
    {
     "data": {
      "text/plain": [
       "[1, 2, 3]"
      ]
     },
     "execution_count": 3,
     "metadata": {},
     "output_type": "execute_result"
    }
   ],
   "source": [
    "my_list = [1,2,3]\n",
    "my_list"
   ]
  },
  {
   "cell_type": "code",
   "execution_count": 4,
   "metadata": {},
   "outputs": [
    {
     "data": {
      "text/plain": [
       "array([1, 2, 3])"
      ]
     },
     "execution_count": 4,
     "metadata": {},
     "output_type": "execute_result"
    },
    {
     "name": "stdout",
     "output_type": "stream",
     "text": [
      "Collecting numpy\n",
      "  Obtaining dependency information for numpy from https://files.pythonhosted.org/packages/32/95/908d0caa051beae4f7c77652dbbeb781e7b717f3040c5c5fcaed4d3ed08f/numpy-1.26.1-cp312-cp312-win_amd64.whl.metadata\n",
      "  Downloading numpy-1.26.1-cp312-cp312-win_amd64.whl.metadata (61 kB)\n",
      "     ---------------------------------------- 0.0/61.2 kB ? eta -:--:--\n",
      "     ------ --------------------------------- 10.2/61.2 kB ? eta -:--:--\n",
      "     ------------ ------------------------- 20.5/61.2 kB 131.3 kB/s eta 0:00:01\n",
      "     ------------------------- ------------ 41.0/61.2 kB 195.7 kB/s eta 0:00:01\n",
      "     ------------------------------- ------ 51.2/61.2 kB 217.9 kB/s eta 0:00:01\n",
      "     ------------------------------- ------ 51.2/61.2 kB 217.9 kB/s eta 0:00:01\n",
      "     ------------------------------- ------ 51.2/61.2 kB 217.9 kB/s eta 0:00:01\n",
      "     ------------------------------- ------ 51.2/61.2 kB 217.9 kB/s eta 0:00:01\n",
      "     ------------------------------- ------ 51.2/61.2 kB 217.9 kB/s eta 0:00:01\n",
      "     ------------------------------- ------ 51.2/61.2 kB 217.9 kB/s eta 0:00:01\n",
      "     ------------------------------- ------ 51.2/61.2 kB 217.9 kB/s eta 0:00:01\n",
      "     ------------------------------- ------ 51.2/61.2 kB 217.9 kB/s eta 0:00:01\n",
      "     ------------------------------- ------ 51.2/61.2 kB 217.9 kB/s eta 0:00:01\n",
      "     ------------------------------- ------ 51.2/61.2 kB 217.9 kB/s eta 0:00:01\n",
      "     ------------------------------- ------ 51.2/61.2 kB 217.9 kB/s eta 0:00:01\n",
      "     ------------------------------- ------ 51.2/61.2 kB 217.9 kB/s eta 0:00:01\n",
      "     ------------------------------- ------ 51.2/61.2 kB 217.9 kB/s eta 0:00:01\n",
      "     ------------------------------- ------ 51.2/61.2 kB 217.9 kB/s eta 0:00:01\n",
      "     ------------------------------- ------ 51.2/61.2 kB 217.9 kB/s eta 0:00:01\n",
      "     ------------------------------- ------ 51.2/61.2 kB 217.9 kB/s eta 0:00:01\n",
      "     ------------------------------- ------ 51.2/61.2 kB 217.9 kB/s eta 0:00:01\n",
      "     ------------------------------- ------ 51.2/61.2 kB 217.9 kB/s eta 0:00:01\n",
      "     ------------------------------- ------ 51.2/61.2 kB 217.9 kB/s eta 0:00:01\n",
      "     --------------------------------------- 61.2/61.2 kB 36.6 kB/s eta 0:00:00\n",
      "Collecting pandas\n",
      "  Obtaining dependency information for pandas from https://files.pythonhosted.org/packages/f0/9b/f5218b4d746491bf262f74665f17604de88387173127ce0ed1eabcddf754/pandas-2.1.2-cp312-cp312-win_amd64.whl.metadata\n",
      "  Downloading pandas-2.1.2-cp312-cp312-win_amd64.whl.metadata (18 kB)\n",
      "Requirement already satisfied: python-dateutil>=2.8.2 in c:\\users\\ematrejek\\appdata\\roaming\\python\\python312\\site-packages (from pandas) (2.8.2)\n",
      "Collecting pytz>=2020.1 (from pandas)\n",
      "  Obtaining dependency information for pytz>=2020.1 from https://files.pythonhosted.org/packages/32/4d/aaf7eff5deb402fd9a24a1449a8119f00d74ae9c2efa79f8ef9994261fc2/pytz-2023.3.post1-py2.py3-none-any.whl.metadata\n",
      "  Downloading pytz-2023.3.post1-py2.py3-none-any.whl.metadata (22 kB)\n",
      "Collecting tzdata>=2022.1 (from pandas)\n",
      "  Using cached tzdata-2023.3-py2.py3-none-any.whl (341 kB)\n",
      "Requirement already satisfied: six>=1.5 in c:\\users\\ematrejek\\appdata\\roaming\\python\\python312\\site-packages (from python-dateutil>=2.8.2->pandas) (1.16.0)\n",
      "Downloading numpy-1.26.1-cp312-cp312-win_amd64.whl (15.5 MB)\n",
      "   ---------------------------------------- 0.0/15.5 MB ? eta -:--:--\n",
      "   ---------------------------------------- 0.2/15.5 MB 4.6 MB/s eta 0:00:04\n",
      "    --------------------------------------- 0.3/15.5 MB 3.5 MB/s eta 0:00:05\n",
      "   - -------------------------------------- 0.5/15.5 MB 3.9 MB/s eta 0:00:04\n",
      "   - -------------------------------------- 0.5/15.5 MB 3.0 MB/s eta 0:00:06\n",
      "   -- ------------------------------------- 1.0/15.5 MB 4.8 MB/s eta 0:00:04\n",
      "   --- ------------------------------------ 1.2/15.5 MB 4.6 MB/s eta 0:00:04\n",
      "   ---- ----------------------------------- 1.6/15.5 MB 4.9 MB/s eta 0:00:03\n",
      "   ---- ----------------------------------- 1.9/15.5 MB 5.0 MB/s eta 0:00:03\n",
      "   ----- ---------------------------------- 2.1/15.5 MB 5.2 MB/s eta 0:00:03\n",
      "   ------ --------------------------------- 2.4/15.5 MB 5.2 MB/s eta 0:00:03\n",
      "   ------- -------------------------------- 2.7/15.5 MB 4.6 MB/s eta 0:00:03\n",
      "   -------- ------------------------------- 3.2/15.5 MB 4.3 MB/s eta 0:00:03\n",
      "   -------- ------------------------------- 3.4/15.5 MB 4.3 MB/s eta 0:00:03\n",
      "   --------- ------------------------------ 3.7/15.5 MB 3.9 MB/s eta 0:00:04\n",
      "   ---------- ----------------------------- 3.9/15.5 MB 3.9 MB/s eta 0:00:03\n",
      "   ---------- ----------------------------- 4.0/15.5 MB 3.7 MB/s eta 0:00:04\n",
      "   ---------- ----------------------------- 4.2/15.5 MB 3.7 MB/s eta 0:00:04\n",
      "   ----------- ---------------------------- 4.4/15.5 MB 3.7 MB/s eta 0:00:04\n",
      "   ----------- ---------------------------- 4.5/15.5 MB 3.6 MB/s eta 0:00:04\n",
      "   ------------ --------------------------- 4.8/15.5 MB 3.5 MB/s eta 0:00:04\n",
      "   ------------ --------------------------- 4.9/15.5 MB 3.4 MB/s eta 0:00:04\n",
      "   ------------- -------------------------- 5.1/15.5 MB 3.3 MB/s eta 0:00:04\n",
      "   ------------- -------------------------- 5.3/15.5 MB 3.3 MB/s eta 0:00:04\n",
      "   -------------- ------------------------- 5.4/15.5 MB 3.2 MB/s eta 0:00:04\n",
      "   -------------- ------------------------- 5.6/15.5 MB 3.1 MB/s eta 0:00:04\n",
      "   -------------- ------------------------- 5.8/15.5 MB 3.1 MB/s eta 0:00:04\n",
      "   --------------- ------------------------ 5.9/15.5 MB 3.1 MB/s eta 0:00:04\n",
      "   --------------- ------------------------ 6.1/15.5 MB 3.1 MB/s eta 0:00:04\n",
      "   ---------------- ----------------------- 6.2/15.5 MB 3.0 MB/s eta 0:00:04\n",
      "   ---------------- ----------------------- 6.3/15.5 MB 3.0 MB/s eta 0:00:04\n",
      "   ---------------- ----------------------- 6.5/15.5 MB 3.0 MB/s eta 0:00:03\n",
      "   ----------------- ---------------------- 6.6/15.5 MB 3.0 MB/s eta 0:00:03\n",
      "   ----------------- ---------------------- 6.7/15.5 MB 3.0 MB/s eta 0:00:03\n",
      "   ----------------- ---------------------- 6.9/15.5 MB 3.0 MB/s eta 0:00:03\n",
      "   ------------------ --------------------- 7.0/15.5 MB 3.0 MB/s eta 0:00:03\n",
      "   ------------------ --------------------- 7.1/15.5 MB 3.0 MB/s eta 0:00:03\n",
      "   ------------------ --------------------- 7.3/15.5 MB 3.0 MB/s eta 0:00:03\n",
      "   ------------------- -------------------- 7.4/15.5 MB 3.0 MB/s eta 0:00:03\n",
      "   ------------------- -------------------- 7.5/15.5 MB 2.9 MB/s eta 0:00:03\n",
      "   ------------------- -------------------- 7.6/15.5 MB 2.9 MB/s eta 0:00:03\n",
      "   ------------------- -------------------- 7.7/15.5 MB 2.9 MB/s eta 0:00:03\n",
      "   -------------------- ------------------- 7.9/15.5 MB 2.9 MB/s eta 0:00:03\n",
      "   -------------------- ------------------- 8.0/15.5 MB 2.9 MB/s eta 0:00:03\n",
      "   -------------------- ------------------- 8.1/15.5 MB 2.9 MB/s eta 0:00:03\n",
      "   --------------------- ------------------ 8.3/15.5 MB 2.9 MB/s eta 0:00:03\n",
      "   --------------------- ------------------ 8.3/15.5 MB 2.9 MB/s eta 0:00:03\n",
      "   --------------------- ------------------ 8.4/15.5 MB 2.8 MB/s eta 0:00:03\n",
      "   --------------------- ------------------ 8.5/15.5 MB 2.8 MB/s eta 0:00:03\n",
      "   ---------------------- ----------------- 8.6/15.5 MB 2.8 MB/s eta 0:00:03\n",
      "   ---------------------- ----------------- 8.7/15.5 MB 2.8 MB/s eta 0:00:03\n",
      "   ---------------------- ----------------- 8.9/15.5 MB 2.7 MB/s eta 0:00:03\n",
      "   ----------------------- ---------------- 8.9/15.5 MB 2.7 MB/s eta 0:00:03\n",
      "   ----------------------- ---------------- 9.0/15.5 MB 2.7 MB/s eta 0:00:03\n",
      "   ----------------------- ---------------- 9.1/15.5 MB 2.7 MB/s eta 0:00:03\n",
      "   ----------------------- ---------------- 9.2/15.5 MB 2.7 MB/s eta 0:00:03\n",
      "   ----------------------- ---------------- 9.3/15.5 MB 2.7 MB/s eta 0:00:03\n",
      "   ------------------------ --------------- 9.4/15.5 MB 2.7 MB/s eta 0:00:03\n",
      "   ------------------------ --------------- 9.5/15.5 MB 2.7 MB/s eta 0:00:03\n",
      "   ------------------------ --------------- 9.6/15.5 MB 2.7 MB/s eta 0:00:03\n",
      "   ------------------------- -------------- 9.7/15.5 MB 2.7 MB/s eta 0:00:03\n",
      "   ------------------------- -------------- 9.8/15.5 MB 2.7 MB/s eta 0:00:03\n",
      "   ------------------------- -------------- 10.0/15.5 MB 2.7 MB/s eta 0:00:03\n",
      "   ------------------------- -------------- 10.0/15.5 MB 2.7 MB/s eta 0:00:03\n",
      "   -------------------------- ------------- 10.2/15.5 MB 2.6 MB/s eta 0:00:03\n",
      "   -------------------------- ------------- 10.3/15.5 MB 2.6 MB/s eta 0:00:02\n",
      "   -------------------------- ------------- 10.4/15.5 MB 2.6 MB/s eta 0:00:02\n",
      "   --------------------------- ------------ 10.5/15.5 MB 2.6 MB/s eta 0:00:02\n",
      "   --------------------------- ------------ 10.6/15.5 MB 2.6 MB/s eta 0:00:02\n",
      "   --------------------------- ------------ 10.8/15.5 MB 2.6 MB/s eta 0:00:02\n",
      "   ---------------------------- ----------- 10.9/15.5 MB 2.6 MB/s eta 0:00:02\n",
      "   ---------------------------- ----------- 11.0/15.5 MB 2.6 MB/s eta 0:00:02\n",
      "   ---------------------------- ----------- 11.1/15.5 MB 2.5 MB/s eta 0:00:02\n",
      "   ---------------------------- ----------- 11.2/15.5 MB 2.5 MB/s eta 0:00:02\n",
      "   ----------------------------- ---------- 11.4/15.5 MB 2.5 MB/s eta 0:00:02\n",
      "   ----------------------------- ---------- 11.5/15.5 MB 2.5 MB/s eta 0:00:02\n",
      "   ----------------------------- ---------- 11.6/15.5 MB 2.5 MB/s eta 0:00:02\n",
      "   ------------------------------ --------- 11.8/15.5 MB 2.4 MB/s eta 0:00:02\n",
      "   ------------------------------ --------- 11.9/15.5 MB 2.4 MB/s eta 0:00:02\n",
      "   ------------------------------- -------- 12.1/15.5 MB 2.4 MB/s eta 0:00:02\n",
      "   ------------------------------- -------- 12.2/15.5 MB 2.4 MB/s eta 0:00:02\n",
      "   ------------------------------- -------- 12.4/15.5 MB 2.3 MB/s eta 0:00:02\n",
      "   -------------------------------- ------- 12.5/15.5 MB 2.3 MB/s eta 0:00:02\n",
      "   -------------------------------- ------- 12.7/15.5 MB 2.3 MB/s eta 0:00:02\n",
      "   --------------------------------- ------ 12.8/15.5 MB 2.3 MB/s eta 0:00:02\n",
      "   --------------------------------- ------ 13.0/15.5 MB 2.3 MB/s eta 0:00:02\n",
      "   --------------------------------- ------ 13.0/15.5 MB 2.3 MB/s eta 0:00:02\n",
      "   ---------------------------------- ----- 13.2/15.5 MB 2.3 MB/s eta 0:00:02\n",
      "   ---------------------------------- ----- 13.4/15.5 MB 2.3 MB/s eta 0:00:01\n",
      "   ----------------------------------- ---- 13.6/15.5 MB 2.2 MB/s eta 0:00:01\n",
      "   ----------------------------------- ---- 13.7/15.5 MB 2.3 MB/s eta 0:00:01\n",
      "   ------------------------------------ --- 14.0/15.5 MB 2.2 MB/s eta 0:00:01\n",
      "   ------------------------------------ --- 14.1/15.5 MB 2.2 MB/s eta 0:00:01\n",
      "   ------------------------------------- -- 14.3/15.5 MB 2.2 MB/s eta 0:00:01\n",
      "   ------------------------------------- -- 14.5/15.5 MB 2.3 MB/s eta 0:00:01\n",
      "   ------------------------------------- -- 14.7/15.5 MB 2.3 MB/s eta 0:00:01\n",
      "   -------------------------------------- - 14.8/15.5 MB 2.3 MB/s eta 0:00:01\n",
      "   -------------------------------------- - 14.9/15.5 MB 2.3 MB/s eta 0:00:01\n",
      "   -------------------------------------- - 15.1/15.5 MB 2.3 MB/s eta 0:00:01\n",
      "   ---------------------------------------  15.2/15.5 MB 2.3 MB/s eta 0:00:01\n",
      "   ---------------------------------------  15.3/15.5 MB 2.3 MB/s eta 0:00:01\n",
      "   ---------------------------------------  15.4/15.5 MB 2.3 MB/s eta 0:00:01\n",
      "   ---------------------------------------  15.5/15.5 MB 2.3 MB/s eta 0:00:01\n",
      "   ---------------------------------------  15.5/15.5 MB 2.3 MB/s eta 0:00:01\n",
      "   ---------------------------------------  15.5/15.5 MB 2.3 MB/s eta 0:00:01\n",
      "   ---------------------------------------  15.5/15.5 MB 2.3 MB/s eta 0:00:01\n",
      "   ---------------------------------------- 15.5/15.5 MB 2.2 MB/s eta 0:00:00\n",
      "Downloading pandas-2.1.2-cp312-cp312-win_amd64.whl (10.5 MB)\n",
      "   ---------------------------------------- 0.0/10.5 MB ? eta -:--:--\n",
      "    --------------------------------------- 0.2/10.5 MB 5.0 MB/s eta 0:00:03\n",
      "    --------------------------------------- 0.2/10.5 MB 3.0 MB/s eta 0:00:04\n",
      "   - -------------------------------------- 0.4/10.5 MB 2.5 MB/s eta 0:00:05\n",
      "   - -------------------------------------- 0.4/10.5 MB 2.6 MB/s eta 0:00:04\n",
      "   - -------------------------------------- 0.5/10.5 MB 2.1 MB/s eta 0:00:05\n",
      "   -- ------------------------------------- 0.6/10.5 MB 2.1 MB/s eta 0:00:05\n",
      "   -- ------------------------------------- 0.7/10.5 MB 2.1 MB/s eta 0:00:05\n",
      "   --- ------------------------------------ 0.8/10.5 MB 2.2 MB/s eta 0:00:05\n",
      "   --- ------------------------------------ 1.0/10.5 MB 2.2 MB/s eta 0:00:05\n",
      "   ---- ----------------------------------- 1.1/10.5 MB 2.3 MB/s eta 0:00:05\n",
      "   ---- ----------------------------------- 1.1/10.5 MB 2.1 MB/s eta 0:00:05\n",
      "   ---- ----------------------------------- 1.3/10.5 MB 2.2 MB/s eta 0:00:05\n",
      "   ----- ---------------------------------- 1.4/10.5 MB 2.2 MB/s eta 0:00:05\n",
      "   ----- ---------------------------------- 1.6/10.5 MB 2.2 MB/s eta 0:00:05\n",
      "   ------ --------------------------------- 1.7/10.5 MB 2.2 MB/s eta 0:00:04\n",
      "   ------- -------------------------------- 1.9/10.5 MB 2.2 MB/s eta 0:00:04\n",
      "   ------- -------------------------------- 2.1/10.5 MB 2.3 MB/s eta 0:00:04\n",
      "   -------- ------------------------------- 2.2/10.5 MB 2.3 MB/s eta 0:00:04\n",
      "   --------- ------------------------------ 2.4/10.5 MB 2.3 MB/s eta 0:00:04\n",
      "   --------- ------------------------------ 2.5/10.5 MB 2.4 MB/s eta 0:00:04\n",
      "   ---------- ----------------------------- 2.7/10.5 MB 2.4 MB/s eta 0:00:04\n",
      "   ---------- ----------------------------- 2.8/10.5 MB 2.4 MB/s eta 0:00:04\n",
      "   ----------- ---------------------------- 3.0/10.5 MB 2.5 MB/s eta 0:00:04\n",
      "   ----------- ---------------------------- 3.1/10.5 MB 2.5 MB/s eta 0:00:04\n",
      "   ------------ --------------------------- 3.2/10.5 MB 2.5 MB/s eta 0:00:03\n",
      "   ------------ --------------------------- 3.4/10.5 MB 2.5 MB/s eta 0:00:03\n",
      "   ------------- -------------------------- 3.6/10.5 MB 2.5 MB/s eta 0:00:03\n",
      "   ------------- -------------------------- 3.6/10.5 MB 2.5 MB/s eta 0:00:03\n",
      "   -------------- ------------------------- 3.7/10.5 MB 2.5 MB/s eta 0:00:03\n",
      "   -------------- ------------------------- 3.8/10.5 MB 2.4 MB/s eta 0:00:03\n",
      "   -------------- ------------------------- 3.9/10.5 MB 2.4 MB/s eta 0:00:03\n",
      "   --------------- ------------------------ 4.0/10.5 MB 2.4 MB/s eta 0:00:03\n",
      "   --------------- ------------------------ 4.2/10.5 MB 2.4 MB/s eta 0:00:03\n",
      "   ---------------- ----------------------- 4.3/10.5 MB 2.4 MB/s eta 0:00:03\n",
      "   ---------------- ----------------------- 4.4/10.5 MB 2.4 MB/s eta 0:00:03\n",
      "   ----------------- ---------------------- 4.5/10.5 MB 2.4 MB/s eta 0:00:03\n",
      "   ----------------- ---------------------- 4.6/10.5 MB 2.4 MB/s eta 0:00:03\n",
      "   ------------------ --------------------- 4.8/10.5 MB 2.4 MB/s eta 0:00:03\n",
      "   ------------------ --------------------- 4.9/10.5 MB 2.4 MB/s eta 0:00:03\n",
      "   ------------------- -------------------- 5.0/10.5 MB 2.4 MB/s eta 0:00:03\n",
      "   ------------------- -------------------- 5.2/10.5 MB 2.4 MB/s eta 0:00:03\n",
      "   -------------------- ------------------- 5.3/10.5 MB 2.5 MB/s eta 0:00:03\n",
      "   -------------------- ------------------- 5.4/10.5 MB 2.4 MB/s eta 0:00:03\n",
      "   -------------------- ------------------- 5.5/10.5 MB 2.4 MB/s eta 0:00:03\n",
      "   --------------------- ------------------ 5.6/10.5 MB 2.4 MB/s eta 0:00:03\n",
      "   --------------------- ------------------ 5.7/10.5 MB 2.4 MB/s eta 0:00:02\n",
      "   ---------------------- ----------------- 5.8/10.5 MB 2.4 MB/s eta 0:00:02\n",
      "   ---------------------- ----------------- 6.0/10.5 MB 2.3 MB/s eta 0:00:02\n",
      "   ----------------------- ---------------- 6.2/10.5 MB 2.3 MB/s eta 0:00:02\n",
      "   ------------------------ --------------- 6.3/10.5 MB 2.3 MB/s eta 0:00:02\n",
      "   ------------------------ --------------- 6.5/10.5 MB 2.3 MB/s eta 0:00:02\n",
      "   ------------------------- -------------- 6.7/10.5 MB 2.3 MB/s eta 0:00:02\n",
      "   -------------------------- ------------- 6.9/10.5 MB 2.3 MB/s eta 0:00:02\n",
      "   -------------------------- ------------- 7.0/10.5 MB 2.3 MB/s eta 0:00:02\n",
      "   --------------------------- ------------ 7.1/10.5 MB 2.3 MB/s eta 0:00:02\n",
      "   --------------------------- ------------ 7.3/10.5 MB 2.2 MB/s eta 0:00:02\n",
      "   ---------------------------- ----------- 7.5/10.5 MB 2.2 MB/s eta 0:00:02\n",
      "   ----------------------------- ---------- 7.6/10.5 MB 2.2 MB/s eta 0:00:02\n",
      "   ----------------------------- ---------- 7.8/10.5 MB 2.2 MB/s eta 0:00:02\n",
      "   ------------------------------ --------- 8.0/10.5 MB 2.2 MB/s eta 0:00:02\n",
      "   ------------------------------- -------- 8.3/10.5 MB 2.2 MB/s eta 0:00:02\n",
      "   ------------------------------- -------- 8.4/10.5 MB 2.2 MB/s eta 0:00:01\n",
      "   -------------------------------- ------- 8.6/10.5 MB 2.2 MB/s eta 0:00:01\n",
      "   --------------------------------- ------ 8.7/10.5 MB 2.2 MB/s eta 0:00:01\n",
      "   --------------------------------- ------ 8.9/10.5 MB 2.2 MB/s eta 0:00:01\n",
      "   ---------------------------------- ----- 9.0/10.5 MB 2.2 MB/s eta 0:00:01\n",
      "   ---------------------------------- ----- 9.1/10.5 MB 2.2 MB/s eta 0:00:01\n",
      "   ----------------------------------- ---- 9.3/10.5 MB 2.2 MB/s eta 0:00:01\n",
      "   ------------------------------------ --- 9.5/10.5 MB 2.3 MB/s eta 0:00:01\n",
      "   ------------------------------------ --- 9.6/10.5 MB 2.3 MB/s eta 0:00:01\n",
      "   ------------------------------------- -- 9.8/10.5 MB 2.3 MB/s eta 0:00:01\n",
      "   ------------------------------------- -- 9.9/10.5 MB 2.3 MB/s eta 0:00:01\n",
      "   -------------------------------------- - 10.0/10.5 MB 2.3 MB/s eta 0:00:01\n",
      "   -------------------------------------- - 10.2/10.5 MB 2.3 MB/s eta 0:00:01\n",
      "   ---------------------------------------  10.3/10.5 MB 2.3 MB/s eta 0:00:01\n",
      "   ---------------------------------------  10.5/10.5 MB 2.3 MB/s eta 0:00:01\n",
      "   ---------------------------------------  10.5/10.5 MB 2.3 MB/s eta 0:00:01\n",
      "   ---------------------------------------  10.5/10.5 MB 2.3 MB/s eta 0:00:01\n",
      "   ---------------------------------------- 10.5/10.5 MB 2.2 MB/s eta 0:00:00\n",
      "Downloading pytz-2023.3.post1-py2.py3-none-any.whl (502 kB)\n",
      "   ---------------------------------------- 0.0/502.5 kB ? eta -:--:--\n",
      "   --------------- ------------------------ 194.6/502.5 kB 3.9 MB/s eta 0:00:01\n",
      "   ---------------------------- ----------- 358.4/502.5 kB 3.2 MB/s eta 0:00:01\n",
      "   ---------------------------------------  501.8/502.5 kB 3.2 MB/s eta 0:00:01\n",
      "   ---------------------------------------  501.8/502.5 kB 3.2 MB/s eta 0:00:01\n",
      "   ---------------------------------------- 502.5/502.5 kB 2.0 MB/s eta 0:00:00\n",
      "Installing collected packages: pytz, tzdata, numpy, pandas\n",
      "Successfully installed numpy-1.26.1 pandas-2.1.2 pytz-2023.3.post1 tzdata-2023.3\n"
     ]
    },
    {
     "name": "stderr",
     "output_type": "stream",
     "text": [
      "  WARNING: The script f2py.exe is installed in 'c:\\Users\\ematrejek\\AppData\\Local\\Programs\\Python\\Python312\\Scripts' which is not on PATH.\n",
      "  Consider adding this directory to PATH or, if you prefer to suppress this warning, use --no-warn-script-location.\n",
      "\n",
      "[notice] A new release of pip is available: 23.2.1 -> 23.3.1\n",
      "[notice] To update, run: python.exe -m pip install --upgrade pip\n"
     ]
    }
   ],
   "source": [
    "np.array(my_list)"
   ]
  },
  {
   "cell_type": "code",
   "execution_count": 5,
   "metadata": {},
   "outputs": [
    {
     "data": {
      "text/plain": [
       "[[1, 2, 3], [4, 5, 6], [7, 8, 9]]"
      ]
     },
     "execution_count": 5,
     "metadata": {},
     "output_type": "execute_result"
    }
   ],
   "source": [
    "my_matrix = [[1,2,3],[4,5,6],[7,8,9]]\n",
    "my_matrix"
   ]
  },
  {
   "cell_type": "code",
   "execution_count": 6,
   "metadata": {},
   "outputs": [
    {
     "data": {
      "text/plain": [
       "array([[1, 2, 3],\n",
       "       [4, 5, 6],\n",
       "       [7, 8, 9]])"
      ]
     },
     "execution_count": 6,
     "metadata": {},
     "output_type": "execute_result"
    }
   ],
   "source": [
    "np.array(my_matrix)"
   ]
  },
  {
   "cell_type": "markdown",
   "metadata": {},
   "source": [
    "## Built-in Methods\n",
    "\n",
    "There are lots of built-in ways to generate Arrays"
   ]
  },
  {
   "cell_type": "markdown",
   "metadata": {},
   "source": [
    "### arange\n",
    "\n",
    "Return evenly spaced values within a given interval."
   ]
  },
  {
   "cell_type": "code",
   "execution_count": 7,
   "metadata": {},
   "outputs": [
    {
     "data": {
      "text/plain": [
       "array([0, 1, 2, 3, 4, 5, 6, 7, 8, 9])"
      ]
     },
     "execution_count": 7,
     "metadata": {},
     "output_type": "execute_result"
    }
   ],
   "source": [
    "np.arange(0,10)"
   ]
  },
  {
   "cell_type": "code",
   "execution_count": 8,
   "metadata": {},
   "outputs": [
    {
     "data": {
      "text/plain": [
       "array([ 0,  2,  4,  6,  8, 10])"
      ]
     },
     "execution_count": 8,
     "metadata": {},
     "output_type": "execute_result"
    }
   ],
   "source": [
    "np.arange(0,11,2)"
   ]
  },
  {
   "cell_type": "markdown",
   "metadata": {},
   "source": [
    "### zeros and ones\n",
    "\n",
    "Generate arrays of zeros or ones"
   ]
  },
  {
   "cell_type": "code",
   "execution_count": 9,
   "metadata": {},
   "outputs": [
    {
     "data": {
      "text/plain": [
       "array([0., 0., 0.])"
      ]
     },
     "execution_count": 9,
     "metadata": {},
     "output_type": "execute_result"
    }
   ],
   "source": [
    "np.zeros(3)"
   ]
  },
  {
   "cell_type": "code",
   "execution_count": 10,
   "metadata": {},
   "outputs": [
    {
     "data": {
      "text/plain": [
       "array([[0., 0., 0., 0., 0.],\n",
       "       [0., 0., 0., 0., 0.],\n",
       "       [0., 0., 0., 0., 0.],\n",
       "       [0., 0., 0., 0., 0.],\n",
       "       [0., 0., 0., 0., 0.]])"
      ]
     },
     "execution_count": 10,
     "metadata": {},
     "output_type": "execute_result"
    }
   ],
   "source": [
    "np.zeros((5,5))"
   ]
  },
  {
   "cell_type": "code",
   "execution_count": 11,
   "metadata": {},
   "outputs": [
    {
     "data": {
      "text/plain": [
       "array([1., 1., 1.])"
      ]
     },
     "execution_count": 11,
     "metadata": {},
     "output_type": "execute_result"
    }
   ],
   "source": [
    "np.ones(3)"
   ]
  },
  {
   "cell_type": "code",
   "execution_count": 12,
   "metadata": {},
   "outputs": [
    {
     "data": {
      "text/plain": [
       "array([[1., 1., 1.],\n",
       "       [1., 1., 1.],\n",
       "       [1., 1., 1.]])"
      ]
     },
     "execution_count": 12,
     "metadata": {},
     "output_type": "execute_result"
    }
   ],
   "source": [
    "np.ones((3,3))"
   ]
  },
  {
   "cell_type": "markdown",
   "metadata": {},
   "source": [
    "### linspace\n",
    "Return evenly spaced numbers over a specified interval."
   ]
  },
  {
   "cell_type": "code",
   "execution_count": 13,
   "metadata": {},
   "outputs": [
    {
     "data": {
      "text/plain": [
       "array([ 0.,  5., 10.])"
      ]
     },
     "execution_count": 13,
     "metadata": {},
     "output_type": "execute_result"
    }
   ],
   "source": [
    "np.linspace(0,10,3)"
   ]
  },
  {
   "cell_type": "code",
   "execution_count": 14,
   "metadata": {},
   "outputs": [
    {
     "data": {
      "text/plain": [
       "array([ 0.        ,  0.20408163,  0.40816327,  0.6122449 ,  0.81632653,\n",
       "        1.02040816,  1.2244898 ,  1.42857143,  1.63265306,  1.83673469,\n",
       "        2.04081633,  2.24489796,  2.44897959,  2.65306122,  2.85714286,\n",
       "        3.06122449,  3.26530612,  3.46938776,  3.67346939,  3.87755102,\n",
       "        4.08163265,  4.28571429,  4.48979592,  4.69387755,  4.89795918,\n",
       "        5.10204082,  5.30612245,  5.51020408,  5.71428571,  5.91836735,\n",
       "        6.12244898,  6.32653061,  6.53061224,  6.73469388,  6.93877551,\n",
       "        7.14285714,  7.34693878,  7.55102041,  7.75510204,  7.95918367,\n",
       "        8.16326531,  8.36734694,  8.57142857,  8.7755102 ,  8.97959184,\n",
       "        9.18367347,  9.3877551 ,  9.59183673,  9.79591837, 10.        ])"
      ]
     },
     "execution_count": 14,
     "metadata": {},
     "output_type": "execute_result"
    }
   ],
   "source": [
    "np.linspace(0,10,50)"
   ]
  },
  {
   "cell_type": "markdown",
   "metadata": {},
   "source": [
    "## eye\n",
    "\n",
    "Creates an identity matrix"
   ]
  },
  {
   "cell_type": "code",
   "execution_count": 15,
   "metadata": {},
   "outputs": [
    {
     "data": {
      "text/plain": [
       "array([[1., 0., 0., 0.],\n",
       "       [0., 1., 0., 0.],\n",
       "       [0., 0., 1., 0.],\n",
       "       [0., 0., 0., 1.]])"
      ]
     },
     "execution_count": 15,
     "metadata": {},
     "output_type": "execute_result"
    }
   ],
   "source": [
    "np.eye(4)"
   ]
  },
  {
   "cell_type": "markdown",
   "metadata": {},
   "source": [
    "## Random \n",
    "\n",
    "Numpy also has lots of ways to create random number arrays:\n",
    "\n",
    "### rand\n",
    "Create an array of the given shape and populate it with\n",
    "random samples from a uniform distribution\n",
    "over ``[0, 1)``."
   ]
  },
  {
   "cell_type": "code",
   "execution_count": 16,
   "metadata": {},
   "outputs": [
    {
     "data": {
      "text/plain": [
       "array([0.59183984, 0.07391709])"
      ]
     },
     "execution_count": 16,
     "metadata": {},
     "output_type": "execute_result"
    }
   ],
   "source": [
    "np.random.rand(2) ##rozkład jednostajny"
   ]
  },
  {
   "cell_type": "code",
   "execution_count": 17,
   "metadata": {},
   "outputs": [
    {
     "data": {
      "text/plain": [
       "array([[0.09102321, 0.79954274, 0.97748222, 0.18885397, 0.37355035],\n",
       "       [0.29938056, 0.79740112, 0.1953652 , 0.46458815, 0.34797966],\n",
       "       [0.41144429, 0.68730232, 0.70324074, 0.07955484, 0.39409492],\n",
       "       [0.53973285, 0.92293579, 0.09091736, 0.07465443, 0.80974172],\n",
       "       [0.55776771, 0.78579484, 0.72987196, 0.23318849, 0.98712824]])"
      ]
     },
     "execution_count": 17,
     "metadata": {},
     "output_type": "execute_result"
    }
   ],
   "source": [
    "np.random.rand(5,5)"
   ]
  },
  {
   "cell_type": "markdown",
   "metadata": {},
   "source": [
    "### randn\n",
    "\n",
    "Return a sample (or samples) from the \"standard normal\" distribution. Unlike rand which is uniform:"
   ]
  },
  {
   "cell_type": "code",
   "execution_count": 18,
   "metadata": {},
   "outputs": [
    {
     "data": {
      "text/plain": [
       "array([-0.6253763 ,  0.53402366])"
      ]
     },
     "execution_count": 18,
     "metadata": {},
     "output_type": "execute_result"
    }
   ],
   "source": [
    "np.random.randn(2) ##rozkład normalny"
   ]
  },
  {
   "cell_type": "code",
   "execution_count": 19,
   "metadata": {},
   "outputs": [
    {
     "data": {
      "text/plain": [
       "array([[-0.17358001, -1.50868696,  0.03654444, -1.66194287,  0.3938694 ],\n",
       "       [-1.31679799, -0.91694149, -0.45241075,  0.27207611, -1.1535728 ],\n",
       "       [ 1.40706903,  0.55554598, -0.0596638 ,  1.01289327,  0.71088587],\n",
       "       [ 0.21031873,  1.05895259,  0.43239182, -0.57067554,  0.02274253],\n",
       "       [ 0.0892291 , -1.16912736,  0.27666302, -1.295845  ,  1.6848023 ]])"
      ]
     },
     "execution_count": 19,
     "metadata": {},
     "output_type": "execute_result"
    }
   ],
   "source": [
    "np.random.randn(5,5)"
   ]
  },
  {
   "cell_type": "markdown",
   "metadata": {},
   "source": [
    "### randint\n",
    "Return random integers from `low` (inclusive) to `high` (exclusive)."
   ]
  },
  {
   "cell_type": "code",
   "execution_count": 20,
   "metadata": {},
   "outputs": [
    {
     "data": {
      "text/plain": [
       "4"
      ]
     },
     "execution_count": 20,
     "metadata": {},
     "output_type": "execute_result"
    }
   ],
   "source": [
    "np.random.randint(1,100) # liczba całkowita z przedziału [1,100)"
   ]
  },
  {
   "cell_type": "code",
   "execution_count": 21,
   "metadata": {},
   "outputs": [
    {
     "data": {
      "text/plain": [
       "array([90, 33, 74, 58, 93, 63, 37, 42, 37, 85])"
      ]
     },
     "execution_count": 21,
     "metadata": {},
     "output_type": "execute_result"
    }
   ],
   "source": [
    "np.random.randint(1,100,10) # 10 liczb całkowitych z przedziału [1,100)"
   ]
  },
  {
   "cell_type": "markdown",
   "metadata": {},
   "source": [
    "## Array Attributes and Methods\n",
    "\n",
    "Let's discuss some useful attributes and methods or an array:"
   ]
  },
  {
   "cell_type": "code",
   "execution_count": 22,
   "metadata": {
    "collapsed": true
   },
   "outputs": [],
   "source": [
    "arr = np.arange(25)\n",
    "ranarr = np.random.randint(0,50,10)"
   ]
  },
  {
   "cell_type": "code",
   "execution_count": 23,
   "metadata": {},
   "outputs": [
    {
     "data": {
      "text/plain": [
       "array([ 0,  1,  2,  3,  4,  5,  6,  7,  8,  9, 10, 11, 12, 13, 14, 15, 16,\n",
       "       17, 18, 19, 20, 21, 22, 23, 24])"
      ]
     },
     "execution_count": 23,
     "metadata": {},
     "output_type": "execute_result"
    }
   ],
   "source": [
    "arr #wektor 25 liczb po kolei"
   ]
  },
  {
   "cell_type": "code",
   "execution_count": 24,
   "metadata": {},
   "outputs": [
    {
     "data": {
      "text/plain": [
       "array([ 7, 11, 32, 40, 40, 40, 35, 42,  2, 38])"
      ]
     },
     "execution_count": 24,
     "metadata": {},
     "output_type": "execute_result"
    }
   ],
   "source": [
    "ranarr #wektor 10-elementowy losowych wartości od 0 do 50"
   ]
  },
  {
   "cell_type": "markdown",
   "metadata": {},
   "source": [
    "## Reshape\n",
    "Returns an array containing the same data with a new shape."
   ]
  },
  {
   "cell_type": "code",
   "execution_count": 25,
   "metadata": {},
   "outputs": [
    {
     "data": {
      "text/plain": [
       "array([[ 0,  1,  2,  3,  4],\n",
       "       [ 5,  6,  7,  8,  9],\n",
       "       [10, 11, 12, 13, 14],\n",
       "       [15, 16, 17, 18, 19],\n",
       "       [20, 21, 22, 23, 24]])"
      ]
     },
     "execution_count": 25,
     "metadata": {},
     "output_type": "execute_result"
    }
   ],
   "source": [
    "arr.reshape(5,5) #przekształcanie wektora do macierzy 5,5"
   ]
  },
  {
   "cell_type": "markdown",
   "metadata": {},
   "source": [
    "### max,min,argmax,argmin\n",
    "\n",
    "These are useful methods for finding max or min values. Or to find their index locations using argmin or argmax"
   ]
  },
  {
   "cell_type": "code",
   "execution_count": 26,
   "metadata": {},
   "outputs": [
    {
     "data": {
      "text/plain": [
       "array([ 7, 11, 32, 40, 40, 40, 35, 42,  2, 38])"
      ]
     },
     "execution_count": 26,
     "metadata": {},
     "output_type": "execute_result"
    }
   ],
   "source": [
    "ranarr"
   ]
  },
  {
   "cell_type": "code",
   "execution_count": 27,
   "metadata": {},
   "outputs": [
    {
     "data": {
      "text/plain": [
       "42"
      ]
     },
     "execution_count": 27,
     "metadata": {},
     "output_type": "execute_result"
    }
   ],
   "source": [
    "ranarr.max() #jaka jest maksymalna wartość"
   ]
  },
  {
   "cell_type": "code",
   "execution_count": 28,
   "metadata": {},
   "outputs": [
    {
     "data": {
      "text/plain": [
       "7"
      ]
     },
     "execution_count": 28,
     "metadata": {},
     "output_type": "execute_result"
    }
   ],
   "source": [
    "ranarr.argmax() #na której pozycji jest maksymalna wartość"
   ]
  },
  {
   "cell_type": "code",
   "execution_count": null,
   "metadata": {},
   "outputs": [],
   "source": [
    "ranarr.min() #jaka jest minimalna wartość"
   ]
  },
  {
   "cell_type": "code",
   "execution_count": null,
   "metadata": {},
   "outputs": [],
   "source": [
    "ranarr.argmin() #jaka jest pozycja minimalnej wartości"
   ]
  },
  {
   "cell_type": "markdown",
   "metadata": {},
   "source": [
    "## Shape\n",
    "\n",
    "Shape is an attribute that arrays have (not a method):"
   ]
  },
  {
   "cell_type": "code",
   "execution_count": 29,
   "metadata": {},
   "outputs": [
    {
     "data": {
      "text/plain": [
       "(25,)"
      ]
     },
     "execution_count": 29,
     "metadata": {},
     "output_type": "execute_result"
    }
   ],
   "source": [
    "# Vector\n",
    "arr.shape #jednowymiarowy wektor - 25 wierszy"
   ]
  },
  {
   "cell_type": "code",
   "execution_count": 30,
   "metadata": {},
   "outputs": [
    {
     "data": {
      "text/plain": [
       "array([[ 0,  1,  2,  3,  4,  5,  6,  7,  8,  9, 10, 11, 12, 13, 14, 15,\n",
       "        16, 17, 18, 19, 20, 21, 22, 23, 24]])"
      ]
     },
     "execution_count": 30,
     "metadata": {},
     "output_type": "execute_result"
    }
   ],
   "source": [
    "# Notice the two sets of brackets\n",
    "arr.reshape(1,25) #przkeształcamy na macierz z 1 wierszem i 25 kolumnami"
   ]
  },
  {
   "cell_type": "code",
   "execution_count": 31,
   "metadata": {},
   "outputs": [
    {
     "data": {
      "text/plain": [
       "(1, 25)"
      ]
     },
     "execution_count": 31,
     "metadata": {},
     "output_type": "execute_result"
    }
   ],
   "source": [
    "arr.reshape(1,25).shape #i teraz jego wymiary to 1,25 (jeden wiersz i 25 kolumn)"
   ]
  },
  {
   "cell_type": "code",
   "execution_count": 32,
   "metadata": {},
   "outputs": [
    {
     "data": {
      "text/plain": [
       "array([[ 0],\n",
       "       [ 1],\n",
       "       [ 2],\n",
       "       [ 3],\n",
       "       [ 4],\n",
       "       [ 5],\n",
       "       [ 6],\n",
       "       [ 7],\n",
       "       [ 8],\n",
       "       [ 9],\n",
       "       [10],\n",
       "       [11],\n",
       "       [12],\n",
       "       [13],\n",
       "       [14],\n",
       "       [15],\n",
       "       [16],\n",
       "       [17],\n",
       "       [18],\n",
       "       [19],\n",
       "       [20],\n",
       "       [21],\n",
       "       [22],\n",
       "       [23],\n",
       "       [24]])"
      ]
     },
     "execution_count": 32,
     "metadata": {},
     "output_type": "execute_result"
    }
   ],
   "source": [
    "arr.reshape(25,1)"
   ]
  },
  {
   "cell_type": "code",
   "execution_count": 33,
   "metadata": {},
   "outputs": [
    {
     "data": {
      "text/plain": [
       "(25, 1)"
      ]
     },
     "execution_count": 33,
     "metadata": {},
     "output_type": "execute_result"
    }
   ],
   "source": [
    "arr.reshape(25,1).shape"
   ]
  },
  {
   "cell_type": "markdown",
   "metadata": {},
   "source": [
    "### dtype\n",
    "\n",
    "You can also grab the data type of the object in the array:"
   ]
  },
  {
   "cell_type": "code",
   "execution_count": 34,
   "metadata": {},
   "outputs": [
    {
     "data": {
      "text/plain": [
       "dtype('int32')"
      ]
     },
     "execution_count": 34,
     "metadata": {},
     "output_type": "execute_result"
    }
   ],
   "source": [
    "arr.dtype #w arrayach możemy trzymać tylko obiekty jednego typu "
   ]
  }
 ],
 "metadata": {
  "kernelspec": {
   "display_name": "Python 3",
   "language": "python",
   "name": "python3"
  },
  "language_info": {
   "codemirror_mode": {
    "name": "ipython",
    "version": 3
   },
   "file_extension": ".py",
   "mimetype": "text/x-python",
   "name": "python",
   "nbconvert_exporter": "python",
   "pygments_lexer": "ipython3",
   "version": "3.12.0"
  }
 },
 "nbformat": 4,
 "nbformat_minor": 1
}
